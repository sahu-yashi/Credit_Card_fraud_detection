{
  "nbformat": 4,
  "nbformat_minor": 0,
  "metadata": {
    "colab": {
      "provenance": [],
      "collapsed_sections": []
    },
    "kernelspec": {
      "name": "python3",
      "display_name": "Python 3"
    },
    "language_info": {
      "name": "python"
    }
  },
  "cells": [
    {
      "cell_type": "code",
      "execution_count": null,
      "metadata": {
        "colab": {
          "base_uri": "https://localhost:8080/",
          "height": 34
        },
        "id": "Bz7WNXHqfGHL",
        "outputId": "b266ecc1-d45a-4566-8f3e-1e004695cada"
      },
      "outputs": [
        {
          "output_type": "display_data",
          "data": {
            "text/plain": [
              "<Figure size 432x216 with 0 Axes>"
            ]
          },
          "metadata": {}
        }
      ],
      "source": [
        "import os \n",
        "import warnings\n",
        "warnings.filterwarnings('ignore')\n",
        "#Packages related to data importing, manipulation, exploratory data #analysis, data understanding\n",
        "import numpy as np\n",
        "import pandas as pd\n",
        "from pandas import Series, DataFrame\n",
        "from termcolor import colored as cl # text customization\n",
        "#Packages related to data visualizaiton\n",
        "import seaborn as sns\n",
        "import matplotlib.pyplot as plt\n",
        "%matplotlib inline\n",
        "#Setting plot sizes and type of plot\n",
        "plt.rc(\"font\", size=14)\n",
        "plt.rcParams['axes.grid'] = True\n",
        "plt.figure(figsize=(6,3))\n",
        "plt.gray()\n",
        "from matplotlib.backends.backend_pdf import PdfPages\n",
        "from sklearn.model_selection import train_test_split, GridSearchCV\n",
        "from sklearn import metrics\n",
        "from sklearn.impute import MissingIndicator, SimpleImputer\n",
        "from sklearn.preprocessing import  PolynomialFeatures, KBinsDiscretizer, FunctionTransformer\n",
        "from sklearn.preprocessing import StandardScaler, MinMaxScaler, MaxAbsScaler\n",
        "from sklearn.preprocessing import LabelEncoder, OneHotEncoder, LabelBinarizer, OrdinalEncoder\n",
        "import statsmodels.formula.api as smf\n",
        "import statsmodels.tsa as tsa\n",
        "from sklearn.linear_model import LogisticRegression, LinearRegression, ElasticNet, Lasso, Ridge\n",
        "from sklearn.neighbors import KNeighborsClassifier, KNeighborsRegressor\n",
        "from sklearn.tree import DecisionTreeClassifier, DecisionTreeRegressor, export_graphviz\n",
        "from sklearn.ensemble import BaggingClassifier, BaggingRegressor,RandomForestClassifier,RandomForestRegressor\n",
        "from sklearn.ensemble import GradientBoostingClassifier,GradientBoostingRegressor, AdaBoostClassifier, AdaBoostRegressor \n",
        "from sklearn.svm import LinearSVC, LinearSVR, SVC, SVR\n",
        "from xgboost import XGBClassifier\n",
        "from sklearn.metrics import f1_score\n",
        "from sklearn.metrics import accuracy_score\n",
        "from sklearn.metrics import confusion_matrix"
      ]
    },
    {
      "cell_type": "code",
      "source": [
        "from google.colab import drive\n",
        "drive.mount('/content/drive/')"
      ],
      "metadata": {
        "id": "1nVZmNsGNgmb",
        "colab": {
          "base_uri": "https://localhost:8080/"
        },
        "outputId": "6ccb5f5d-f14b-4490-ebfb-ef5aa24853ea"
      },
      "execution_count": null,
      "outputs": [
        {
          "output_type": "stream",
          "name": "stdout",
          "text": [
            "Drive already mounted at /content/drive/; to attempt to forcibly remount, call drive.mount(\"/content/drive/\", force_remount=True).\n"
          ]
        }
      ]
    },
    {
      "cell_type": "code",
      "source": [
        "data=pd.read_csv(\"/content/drive/MyDrive/resume_projects/credit_card/creditcard.csv\")"
      ],
      "metadata": {
        "id": "XuxDOOFzfZTd"
      },
      "execution_count": null,
      "outputs": []
    },
    {
      "cell_type": "code",
      "source": [
        "print(data.head(10))"
      ],
      "metadata": {
        "id": "fzKaes1Kfwwu",
        "colab": {
          "base_uri": "https://localhost:8080/"
        },
        "outputId": "8e0df3bf-2c5b-423a-fa68-df9c43b1af03"
      },
      "execution_count": null,
      "outputs": [
        {
          "output_type": "stream",
          "name": "stdout",
          "text": [
            "   Time        V1        V2        V3        V4        V5        V6        V7  \\\n",
            "0   0.0 -1.359807 -0.072781  2.536347  1.378155 -0.338321  0.462388  0.239599   \n",
            "1   0.0  1.191857  0.266151  0.166480  0.448154  0.060018 -0.082361 -0.078803   \n",
            "2   1.0 -1.358354 -1.340163  1.773209  0.379780 -0.503198  1.800499  0.791461   \n",
            "3   1.0 -0.966272 -0.185226  1.792993 -0.863291 -0.010309  1.247203  0.237609   \n",
            "4   2.0 -1.158233  0.877737  1.548718  0.403034 -0.407193  0.095921  0.592941   \n",
            "5   2.0 -0.425966  0.960523  1.141109 -0.168252  0.420987 -0.029728  0.476201   \n",
            "6   4.0  1.229658  0.141004  0.045371  1.202613  0.191881  0.272708 -0.005159   \n",
            "7   7.0 -0.644269  1.417964  1.074380 -0.492199  0.948934  0.428118  1.120631   \n",
            "8   7.0 -0.894286  0.286157 -0.113192 -0.271526  2.669599  3.721818  0.370145   \n",
            "9   9.0 -0.338262  1.119593  1.044367 -0.222187  0.499361 -0.246761  0.651583   \n",
            "\n",
            "         V8        V9  ...       V21       V22       V23       V24       V25  \\\n",
            "0  0.098698  0.363787  ... -0.018307  0.277838 -0.110474  0.066928  0.128539   \n",
            "1  0.085102 -0.255425  ... -0.225775 -0.638672  0.101288 -0.339846  0.167170   \n",
            "2  0.247676 -1.514654  ...  0.247998  0.771679  0.909412 -0.689281 -0.327642   \n",
            "3  0.377436 -1.387024  ... -0.108300  0.005274 -0.190321 -1.175575  0.647376   \n",
            "4 -0.270533  0.817739  ... -0.009431  0.798278 -0.137458  0.141267 -0.206010   \n",
            "5  0.260314 -0.568671  ... -0.208254 -0.559825 -0.026398 -0.371427 -0.232794   \n",
            "6  0.081213  0.464960  ... -0.167716 -0.270710 -0.154104 -0.780055  0.750137   \n",
            "7 -3.807864  0.615375  ...  1.943465 -1.015455  0.057504 -0.649709 -0.415267   \n",
            "8  0.851084 -0.392048  ... -0.073425 -0.268092 -0.204233  1.011592  0.373205   \n",
            "9  0.069539 -0.736727  ... -0.246914 -0.633753 -0.120794 -0.385050 -0.069733   \n",
            "\n",
            "        V26       V27       V28  Amount  Class  \n",
            "0 -0.189115  0.133558 -0.021053  149.62      0  \n",
            "1  0.125895 -0.008983  0.014724    2.69      0  \n",
            "2 -0.139097 -0.055353 -0.059752  378.66      0  \n",
            "3 -0.221929  0.062723  0.061458  123.50      0  \n",
            "4  0.502292  0.219422  0.215153   69.99      0  \n",
            "5  0.105915  0.253844  0.081080    3.67      0  \n",
            "6 -0.257237  0.034507  0.005168    4.99      0  \n",
            "7 -0.051634 -1.206921 -1.085339   40.80      0  \n",
            "8 -0.384157  0.011747  0.142404   93.20      0  \n",
            "9  0.094199  0.246219  0.083076    3.68      0  \n",
            "\n",
            "[10 rows x 31 columns]\n"
          ]
        }
      ]
    },
    {
      "cell_type": "code",
      "source": [
        "Total_transactions = len(data)\n",
        "normal = len(data[data.Class == 0])\n",
        "fraudulent = len(data[data.Class == 1])\n",
        "fraud_percentage = round(fraudulent/Total_transactions*100, 2)\n",
        "print(cl('Total number of Trnsactions are {}'.format(Total_transactions), attrs = ['bold']))\n",
        "print(cl('Number of Normal Transactions are {}'.format(normal), attrs = ['bold']))\n",
        "print(cl('Number of fraudulent Transactions are {}'.format(fraudulent), attrs = ['bold']))\n",
        "print(cl('Percentage of fraud Transactions is {}'.format(fraud_percentage), attrs = ['bold']))"
      ],
      "metadata": {
        "colab": {
          "base_uri": "https://localhost:8080/"
        },
        "id": "k_DKkmaNgPQ7",
        "outputId": "f8568896-370b-48bd-90af-4cc726d83baa"
      },
      "execution_count": null,
      "outputs": [
        {
          "output_type": "stream",
          "name": "stdout",
          "text": [
            "\u001b[1mTotal number of Trnsactions are 284807\u001b[0m\n",
            "\u001b[1mNumber of Normal Transactions are 284315\u001b[0m\n",
            "\u001b[1mNumber of fraudulent Transactions are 492\u001b[0m\n",
            "\u001b[1mPercentage of fraud Transactions is 0.17\u001b[0m\n"
          ]
        }
      ]
    },
    {
      "cell_type": "code",
      "source": [
        "data.info()"
      ],
      "metadata": {
        "id": "2f6euZIJhLtP"
      },
      "execution_count": null,
      "outputs": []
    },
    {
      "cell_type": "code",
      "source": [
        "print(data[\"Amount\"].max())\n",
        "print(data[\"Amount\"].min())"
      ],
      "metadata": {
        "colab": {
          "base_uri": "https://localhost:8080/"
        },
        "id": "HyzboTYnhhkt",
        "outputId": "fae24cd8-2652-477f-bbc3-def8218e7d30"
      },
      "execution_count": null,
      "outputs": [
        {
          "output_type": "stream",
          "name": "stdout",
          "text": [
            "25691.16\n",
            "0.0\n"
          ]
        }
      ]
    },
    {
      "cell_type": "code",
      "source": [
        "data.drop(['Time'], axis=1, inplace=True)"
      ],
      "metadata": {
        "id": "KCQ6Sku8pAFZ"
      },
      "execution_count": null,
      "outputs": []
    },
    {
      "cell_type": "code",
      "source": [
        "data.drop_duplicates(inplace=True)"
      ],
      "metadata": {
        "id": "OJ111ES3h5q1"
      },
      "execution_count": null,
      "outputs": []
    },
    {
      "cell_type": "code",
      "source": [
        "X = data.drop('Class', axis = 1).values\n",
        "y = data['Class'].values"
      ],
      "metadata": {
        "id": "VDs4vgZOoKUJ"
      },
      "execution_count": null,
      "outputs": []
    },
    {
      "cell_type": "code",
      "source": [
        "X_train, X_test, y_train, y_test=train_test_split(X, y, test_size=0.15, shuffle=False, stratify = None)"
      ],
      "metadata": {
        "id": "J8PKdwkOm2-2"
      },
      "execution_count": null,
      "outputs": []
    },
    {
      "cell_type": "code",
      "source": [
        "X_train, X_val, y_train, y_val=train_test_split(X_train, y_train, test_size=(0.15/0.85), shuffle=False, stratify = None)"
      ],
      "metadata": {
        "id": "Khu0odTpodO5"
      },
      "execution_count": null,
      "outputs": []
    },
    {
      "cell_type": "markdown",
      "source": [
        "XGBOOST"
      ],
      "metadata": {
        "id": "8Ysn9whiEN9t"
      }
    },
    {
      "cell_type": "code",
      "source": [
        "def run_cross_validation_on_trees( tree_depths, train_X,train_Y,val_X,val_Y):\n",
        "    accuracy_val=[]\n",
        "    accuracy_train=[]\n",
        "    for depth in tree_depths:\n",
        "        tree_model = XGBClassifier(max_depth=depth)\n",
        "        tree_model.fit(train_X, train_Y)\n",
        "        dt_yhat = tree_model.predict(val_X)\n",
        "       \n",
        "        accuracy_val.append(f1_score(val_Y, dt_yhat))\n",
        "        dt_yhat_train = tree_model.predict(train_X)\n",
        "        accuracy_train.append(f1_score(train_Y, dt_yhat_train))\n",
        "    \n",
        "    return accuracy_val,accuracy_train"
      ],
      "metadata": {
        "id": "fbDmZPbsuBay"
      },
      "execution_count": null,
      "outputs": []
    },
    {
      "cell_type": "code",
      "source": [
        "tree_depths = range(1,25)\n",
        "accuracy_val,accuracy_train=run_cross_validation_on_trees( tree_depths, X_train,y_train,X_val,y_val)"
      ],
      "metadata": {
        "id": "4y02RounqR7S"
      },
      "execution_count": null,
      "outputs": []
    },
    {
      "cell_type": "code",
      "source": [
        "x_axis= [i for i in range(1,25)]\n",
        "line1,=plt.plot(x_axis,accuracy_val,label='val_accuracy')\n",
        "# plt.legend(handles=[line1], loc='upper right')\n",
        "first_legend = plt.legend(handles=[line1], loc='upper right')\n",
        "plt.gca().add_artist(first_legend)\n",
        "line2, = plt.plot(x_axis,accuracy_train,label='train_accuracy')\n",
        "plt.legend(handles=[line2], loc='lower right')\n",
        "plt.xlabel('depth')\n",
        "plt.ylabel('accuracy')\n",
        "plt.title('train-val accuracy graph')\n",
        "plt.show()"
      ],
      "metadata": {
        "colab": {
          "base_uri": "https://localhost:8080/",
          "height": 307
        },
        "id": "n8wtpPOxzV5M",
        "outputId": "ea9c1acb-c260-4e78-dffb-5e65eebd8344"
      },
      "execution_count": null,
      "outputs": [
        {
          "output_type": "display_data",
          "data": {
            "text/plain": [
              "<Figure size 432x288 with 1 Axes>"
            ],
            "image/png": "[encoded data removed]"
          },
          "metadata": {
            "needs_background": "light"
          }
        }
      ]
    },
    {
      "cell_type": "code",
      "source": [
        "best_k=4"
      ],
      "metadata": {
        "id": "PLLm2F0B3vyX"
      },
      "execution_count": null,
      "outputs": []
    },
    {
      "cell_type": "code",
      "source": [
        "tree_model = XGBClassifier(max_depth=best_k,criterion = 'entropy')\n",
        "tree_model.fit(X_train,y_train)\n",
        "dt_yhat = tree_model.predict( X_test)\n",
        "acc=accuracy_score(y_test, dt_yhat)\n",
        "f1=f1_score(y_test, dt_yhat)\n",
        "c=confusion_matrix(y_test, dt_yhat, labels = [0, 1])\n",
        "print(\"accuracy is \",acc)\n",
        "print(\"f1 score is \",f1)\n",
        "print(\"confusion matrix\",c)"
      ],
      "metadata": {
        "colab": {
          "base_uri": "https://localhost:8080/"
        },
        "id": "-UL0yyD43c-Y",
        "outputId": "8e8d84c1-d356-44e7-9d45-287cf7883cdb"
      },
      "execution_count": null,
      "outputs": [
        {
          "output_type": "stream",
          "name": "stdout",
          "text": [
            "accuracy is  0.999540507859734\n",
            "f1 score is  0.7956989247311829\n",
            "confusion matrix [[41294     4]\n",
            " [   15    37]]\n"
          ]
        }
      ]
    },
    {
      "cell_type": "markdown",
      "source": [
        "SVM\n"
      ],
      "metadata": {
        "id": "1-lNrw4AEVT4"
      }
    },
    {
      "cell_type": "code",
      "source": [
        "def run_cross_validation_on_SVM( kernals, train_X,train_Y,val_X,val_Y):\n",
        "    accuracy_val=[]\n",
        "    accuracy_train=[]\n",
        "    for k in kernals:\n",
        "        svm = SVC(kernel=k)\n",
        "        svm.fit(train_X, train_Y)\n",
        "        svm_yhat = svm.predict(val_X)\n",
        "        accuracy_val.append(accuracy_score(val_Y, svm_yhat))\n",
        "        svm_yhat_train = svm.predict(train_X)\n",
        "        accuracy_train.append(accuracy_score(train_Y, svm_yhat_train))\n",
        "    \n",
        "    return accuracy_val,accuracy_train"
      ],
      "metadata": {
        "id": "6daoBHe_EXEM"
      },
      "execution_count": null,
      "outputs": []
    },
    {
      "cell_type": "code",
      "source": [
        "kernals = ('linear', 'poly', 'rbf')\n",
        "accuracy_val,accuracy_train=run_cross_validation_on_SVM( kernals, X_train,y_train,X_val,y_val)"
      ],
      "metadata": {
        "id": "F0ZudDKkEwKS"
      },
      "execution_count": null,
      "outputs": []
    },
    {
      "cell_type": "code",
      "source": [
        "print(accuracy_val)\n",
        "print(accuracy_train)\n"
      ],
      "metadata": {
        "colab": {
          "base_uri": "https://localhost:8080/"
        },
        "id": "hNjcRi7ebE18",
        "outputId": "979c5728-2a23-45b4-c267-b837ae544667"
      },
      "execution_count": null,
      "outputs": [
        {
          "output_type": "stream",
          "name": "stdout",
          "text": [
            "[0.9995163240628778, 0.9987908101571947, 0.9986457073760581]\n",
            "[0.9992744723081627, 0.9982017277923747, 0.998668138451413]\n"
          ]
        }
      ]
    },
    {
      "cell_type": "code",
      "source": [
        "best_kernal='rbf'"
      ],
      "metadata": {
        "id": "eVsf2_bRE08M"
      },
      "execution_count": null,
      "outputs": []
    },
    {
      "cell_type": "code",
      "source": [
        "svm = SVC(kernel=best_kernal)\n",
        "svm.fit(X_train,y_train)\n",
        "svm_yhat = svm.predict( X_test)\n",
        "acc=accuracy_score(y_test, svm_yhat)\n",
        "f1=f1_score(y_test, svm_yhat)\n",
        "c=confusion_matrix(y_test, svm_yhat, labels = [0, 1])\n",
        "print(\"accuracy is \",acc)\n",
        "print(\"f1 score is \",f1)\n",
        "print(\"confusion matrix\",c)"
      ],
      "metadata": {
        "colab": {
          "base_uri": "https://localhost:8080/"
        },
        "id": "z3vnf3TuE29b",
        "outputId": "ee3d38aa-4e1b-4ad7-a95f-2e076a7e1e7f"
      },
      "execution_count": null,
      "outputs": [
        {
          "output_type": "stream",
          "name": "stdout",
          "text": [
            "accuracy is  0.9987424425634824\n",
            "f1 score is  0.0\n",
            "confusion matrix [[41298     0]\n",
            " [   52     0]]\n"
          ]
        }
      ]
    },
    {
      "cell_type": "code",
      "source": [
        "ctr=0\n",
        "for i in svm_yhat:\n",
        "  if i==0:\n",
        "    ctr+=1\n",
        "print(ctr)"
      ],
      "metadata": {
        "colab": {
          "base_uri": "https://localhost:8080/"
        },
        "id": "xYLA9zcUhVIm",
        "outputId": "8a466bff-be85-4036-9356-d9ffa8aa1383"
      },
      "execution_count": null,
      "outputs": [
        {
          "output_type": "stream",
          "name": "stdout",
          "text": [
            "41350\n"
          ]
        }
      ]
    },
    {
      "cell_type": "markdown",
      "source": [
        "KNN"
      ],
      "metadata": {
        "id": "EvEwxNcGI-Rc"
      }
    },
    {
      "cell_type": "code",
      "source": [
        "def run_cross_validation_on_knn( k_list, train_X,train_Y,val_X,val_Y):\n",
        "    accuracy_val=[]\n",
        "    accuracy_train=[]\n",
        "    for k in k_list:\n",
        "        KNN = KNeighborsClassifier(n_neighbors = k)\n",
        "        KNN.fit(train_X, train_Y)\n",
        "        knn_yhat = KNN.predict(val_X)\n",
        "        accuracy_val.append(accuracy_score(val_Y, knn_yhat))\n",
        "        knn_yhat_train = KNN.predict(train_X)\n",
        "        accuracy_train.append(accuracy_score(train_Y, knn_yhat_train))\n",
        "    \n",
        "    return accuracy_val,accuracy_train"
      ],
      "metadata": {
        "id": "7nbssC-ZJYi3"
      },
      "execution_count": null,
      "outputs": []
    },
    {
      "cell_type": "code",
      "source": [
        "k_list = range()\n",
        "accuracy_val,accuracy_train=run_cross_validation_on_trees( tree_depths, X_train,y_train,X_val,y_val)"
      ],
      "metadata": {
        "id": "avMSaPszJcIT"
      },
      "execution_count": null,
      "outputs": []
    },
    {
      "cell_type": "code",
      "source": [
        "x_axis= [i for i in range(1,25)]\n",
        "line1,=plt.plot(x_axis,accuracy_val,label='val_accuracy')\n",
        "# plt.legend(handles=[line1], loc='upper right')\n",
        "first_legend = plt.legend(handles=[line1], loc='upper right')\n",
        "plt.gca().add_artist(first_legend)\n",
        "line2, = plt.plot(x_axis,accuracy_train,label='train_accuracy')\n",
        "plt.legend(handles=[line2], loc='lower right')\n",
        "plt.xlabel('depth')\n",
        "plt.ylabel('accuracy')\n",
        "plt.title('train-val accuracy graph')\n",
        "plt.show()"
      ],
      "metadata": {
        "id": "HF2Re5vJJev7"
      },
      "execution_count": null,
      "outputs": []
    },
    {
      "cell_type": "code",
      "source": [
        "best_k=4"
      ],
      "metadata": {
        "id": "Ai4VA5wqJjRL"
      },
      "execution_count": null,
      "outputs": []
    },
    {
      "cell_type": "code",
      "source": [
        "tree_model = XGBClassifier(max_depth=best_k,criterion = 'entropy')\n",
        "tree_model.fit(X_train,y_train)\n",
        "dt_yhat = tree_model.predict( X_test)\n",
        "acc=accuracy_score(y_test, dt_yhat)\n",
        "f1=f1_score(y_test, dt_yhat)\n",
        "c=confusion_matrix(y_test, dt_yhat, labels = [0, 1])\n",
        "print(\"accuracy is \",acc)\n",
        "print(\"f1 score is \",f1)\n",
        "print(\"confusion matrix\",c)"
      ],
      "metadata": {
        "id": "0ibAKdyKJlkp"
      },
      "execution_count": null,
      "outputs": []
    }
  ]
}